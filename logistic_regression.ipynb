{
 "cells": [
  {
   "cell_type": "code",
   "execution_count": 7,
   "metadata": {},
   "outputs": [],
   "source": [
    "#importing the necessairy libraries\n",
    "import pandas as pd    #data management library\n",
    "import numpy as np     #useful also to manage numbers and data\n",
    "import sklearn         #has machine laerning models\n",
    "import matplotlib.pyplot as plt    #data visualization library\n",
    "import seaborn as sns              #same\n",
    "\n",
    "from imblearn.over_sampling import SMOTE    #helps with imbalanced observations\n",
    "from sklearn.model_selection import train_test_split    #a necessairy step in machine learning\n",
    "from sklearn import metrics"
   ]
  },
  {
   "cell_type": "markdown",
   "metadata": {},
   "source": [
    "<p style=\"font-size:160%;font-family:source+scan+pro;color:navy\">\n",
    "    <strong>\n",
    "        1. Reading the data set\n",
    "    </strong>"
   ]
  },
  {
   "cell_type": "code",
   "execution_count": 120,
   "metadata": {},
   "outputs": [
    {
     "name": "stdout",
     "output_type": "stream",
     "text": [
      "<class 'pandas.core.frame.DataFrame'>\n",
      "RangeIndex: 45211 entries, 0 to 45210\n",
      "Data columns (total 17 columns):\n",
      " #   Column     Non-Null Count  Dtype \n",
      "---  ------     --------------  ----- \n",
      " 0   age        45211 non-null  int64 \n",
      " 1   job        45211 non-null  object\n",
      " 2   marital    45211 non-null  object\n",
      " 3   education  45211 non-null  object\n",
      " 4   default    45211 non-null  object\n",
      " 5   balance    45211 non-null  int64 \n",
      " 6   housing    45211 non-null  object\n",
      " 7   loan       45211 non-null  object\n",
      " 8   contact    45211 non-null  object\n",
      " 9   day        45211 non-null  int64 \n",
      " 10  month      45211 non-null  object\n",
      " 11  duration   45211 non-null  int64 \n",
      " 12  campaign   45211 non-null  int64 \n",
      " 13  pdays      45211 non-null  int64 \n",
      " 14  previous   45211 non-null  int64 \n",
      " 15  poutcome   45211 non-null  object\n",
      " 16  y          45211 non-null  object\n",
      "dtypes: int64(7), object(10)\n",
      "memory usage: 5.9+ MB\n"
     ]
    }
   ],
   "source": [
    "#reading the data set into a pandas data frame\n",
    "#note: we had to seperate the data by delimiter ;\n",
    "df = pd.read_csv('data/bank-full.csv',delimiter=';')\n",
    "#a nice read into the number columns and rows in our data set\n",
    "#and a quick glance into the data type of each column\n",
    "df.info()"
   ]
  },
  {
   "cell_type": "markdown",
   "metadata": {},
   "source": [
    "<p\n",
    "   style=\"font-size:160%;font-family:source+scan+pro;color:navy\">\n",
    "    <strong>\n",
    "        2. Data Exploration\n",
    "    </strong>\n",
    "</p>\n",
    "<p\n",
    "   style=\"font-size:100%;font-family:source+scan+pro;color:black\">\n",
    "    Take a look at figure 1 down there, it shows you the number of clients who subscribed to the service after being solicted by the bank. As it is clearly shown, the number of people who subscribed (positive outcome) is about 9 times less than that of those who did not subscribe. So, if we use this data set as it is to train the model, it is going to see much more negative outcomes than positive outcomes, which isn't fair. We call this an imblanaced data set. Keep that in mind because we are going to talk about solving for this later on. \n",
    "</p>"
   ]
  },
  {
   "cell_type": "code",
   "execution_count": 121,
   "metadata": {},
   "outputs": [
    {
     "data": {
      "image/png": "[encoded data removed]",
      "text/plain": [
       "<Figure size 432x288 with 1 Axes>"
      ]
     },
     "metadata": {
      "needs_background": "light"
     },
     "output_type": "display_data"
    }
   ],
   "source": [
    "#column 'y' contains the outcome of the call, whether the client purchased the service or not.\n",
    "#naming the target column 'y' is a convention in the machine learning community\n",
    "df['y'].value_counts()\n",
    "sns.countplot(data=df,x='y')\n",
    "plt.title('Fig.1 Imbalanced data set \\n88% of sample did not subscribe',loc='left');"
   ]
  },
  {
   "cell_type": "markdown",
   "metadata": {},
   "source": [
    "<p style=\"font-size:160%;font-family:source+scan+pro;color:navy\">\n",
    "    <strong>\n",
    "        3. Building the Model\n",
    "        <strong/>\n",
    "        <p/>"
   ]
  },
  {
   "cell_type": "code",
   "execution_count": 122,
   "metadata": {},
   "outputs": [],
   "source": [
    "#1. changing the target variable to \"dummy\"\n",
    "df['y']= np.where(df['y']=='yes',1,0)"
   ]
  },
  {
   "cell_type": "code",
   "execution_count": 130,
   "metadata": {},
   "outputs": [
    {
     "name": "stdout",
     "output_type": "stream",
     "text": [
      "0    0.883015\n",
      "1    0.116985\n",
      "Name: y, dtype: float64\n",
      "0    39922\n",
      "1     5289\n",
      "Name: y, dtype: int64\n"
     ]
    }
   ],
   "source": [
    "#2. checking the sample class balance\n",
    "print(df['y'].value_counts()/df['y'].count())\n",
    "print(df['y'].value_counts())"
   ]
  },
  {
   "cell_type": "code",
   "execution_count": 132,
   "metadata": {},
   "outputs": [],
   "source": [
    "# 3. Categorical variables to dummy\n",
    "# 3.1 assigning categorical variables to a list\n",
    "categorical_features = ['job', 'marital', 'education', 'default', 'housing',\n",
    "                        'loan', 'contact', 'day', 'month','poutcome']"
   ]
  },
  {
   "cell_type": "code",
   "execution_count": 134,
   "metadata": {},
   "outputs": [
    {
     "name": "stdout",
     "output_type": "stream",
     "text": [
      "number of columns in original data frame: 17\n"
     ]
    }
   ],
   "source": [
    "#3.2 create a copy of the original data frame and alias it as dummy\n",
    "# this step is made to maintain a clean structure\n",
    "dummy_df = df\n",
    "print('number of columns in original data frame:',dummy_df.shape[1])\n",
    "#3.3 "
   ]
  },
  {
   "cell_type": "code",
   "execution_count": null,
   "metadata": {},
   "outputs": [],
   "source": []
  },
  {
   "cell_type": "code",
   "execution_count": null,
   "metadata": {},
   "outputs": [],
   "source": []
  },
  {
   "cell_type": "code",
   "execution_count": null,
   "metadata": {},
   "outputs": [],
   "source": []
  }
 ],
 "metadata": {
  "kernelspec": {
   "display_name": "Python 3",
   "language": "python",
   "name": "python3"
  },
  "language_info": {
   "codemirror_mode": {
    "name": "ipython",
    "version": 3
   },
   "file_extension": ".py",
   "mimetype": "text/x-python",
   "name": "python",
   "nbconvert_exporter": "python",
   "pygments_lexer": "ipython3",
   "version": "3.8.5"
  }
 },
 "nbformat": 4,
 "nbformat_minor": 4
}
